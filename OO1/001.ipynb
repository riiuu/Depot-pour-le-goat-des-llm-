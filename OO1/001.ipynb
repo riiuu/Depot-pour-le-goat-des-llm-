{
 "cells": [
  {
   "cell_type": "code",
   "execution_count": null,
   "id": "6a1aa09f",
   "metadata": {},
   "outputs": [],
   "source": [
    "!pip install h5py\n",
    "from utilites import * "
   ]
  },
  {
   "cell_type": "code",
   "execution_count": null,
   "id": "a2a8aea8",
   "metadata": {},
   "outputs": [],
   "source": []
  }
 ],
 "metadata": {
  "language_info": {
   "name": "python"
  }
 },
 "nbformat": 4,
 "nbformat_minor": 5
}
