{
 "cells": [
  {
   "cell_type": "code",
   "execution_count": null,
   "id": "6a1aa09f",
   "metadata": {},
   "outputs": [],
   "source": [
    "!pip install h5py\n",
    "from utilites import * "
   ]
  }
 ],
 "metadata": {
  "language_info": {
   "name": "python"
  }
 },
 "nbformat": 4,
 "nbformat_minor": 5
}
